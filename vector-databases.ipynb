{
 "cells": [
  {
   "cell_type": "markdown",
   "metadata": {},
   "source": [
    "## Generate Embeddings\n"
   ]
  },
  {
   "cell_type": "code",
   "execution_count": 1,
   "metadata": {},
   "outputs": [
    {
     "data": {
      "text/html": [
       "<div>\n",
       "<style scoped>\n",
       "    .dataframe tbody tr th:only-of-type {\n",
       "        vertical-align: middle;\n",
       "    }\n",
       "\n",
       "    .dataframe tbody tr th {\n",
       "        vertical-align: top;\n",
       "    }\n",
       "\n",
       "    .dataframe thead th {\n",
       "        text-align: right;\n",
       "    }\n",
       "</style>\n",
       "<table border=\"1\" class=\"dataframe\">\n",
       "  <thead>\n",
       "    <tr style=\"text-align: right;\">\n",
       "      <th></th>\n",
       "      <th>sentence</th>\n",
       "    </tr>\n",
       "  </thead>\n",
       "  <tbody>\n",
       "    <tr>\n",
       "      <th>0</th>\n",
       "      <td>A little girl is smiling and running outside</td>\n",
       "    </tr>\n",
       "    <tr>\n",
       "      <th>1</th>\n",
       "      <td>A man is drawing on a digital dry erase board</td>\n",
       "    </tr>\n",
       "    <tr>\n",
       "      <th>2</th>\n",
       "      <td>A black bird is sitting on a dead tree</td>\n",
       "    </tr>\n",
       "    <tr>\n",
       "      <th>3</th>\n",
       "      <td>An elderly man is sitting on a bench</td>\n",
       "    </tr>\n",
       "    <tr>\n",
       "      <th>4</th>\n",
       "      <td>A man and a woman are sitting comfortably on t...</td>\n",
       "    </tr>\n",
       "  </tbody>\n",
       "</table>\n",
       "</div>"
      ],
      "text/plain": [
       "                                            sentence\n",
       "0       A little girl is smiling and running outside\n",
       "1      A man is drawing on a digital dry erase board\n",
       "2             A black bird is sitting on a dead tree\n",
       "3               An elderly man is sitting on a bench\n",
       "4  A man and a woman are sitting comfortably on t..."
      ]
     },
     "execution_count": 1,
     "metadata": {},
     "output_type": "execute_result"
    }
   ],
   "source": [
    "import pandas as pd\n",
    "\n",
    "dataset = pd.read_csv(\"sentences.csv\")\n",
    "dataset.head()"
   ]
  },
  {
   "cell_type": "code",
   "execution_count": 2,
   "metadata": {},
   "outputs": [],
   "source": [
    "from openai import OpenAI\n",
    "\n",
    "client = OpenAI()\n",
    "\n",
    "\n",
    "def get_embedding(sentence):\n",
    "    return (\n",
    "        client.embeddings.create(input=sentence, model=\"text-embedding-3-small\")\n",
    "        .data[0]\n",
    "        .embedding\n",
    "    )"
   ]
  },
  {
   "cell_type": "code",
   "execution_count": 3,
   "metadata": {},
   "outputs": [],
   "source": [
    "import os\n",
    "import numpy as np\n",
    "\n",
    "if os.path.exists(\"embedded_sentences.csv\"):\n",
    "    dataset = pd.read_csv(\"embedded_sentences.csv\")\n",
    "    dataset[\"embedding\"] = dataset.embedding.apply(eval).apply(np.array)\n",
    "else:\n",
    "    dataset[\"embedding\"] = dataset[\"sentence\"].apply(get_embedding)\n",
    "    dataset.to_csv(\"embedded_sentences.csv\", index=False)"
   ]
  },
  {
   "cell_type": "code",
   "execution_count": 4,
   "metadata": {},
   "outputs": [
    {
     "data": {
      "text/html": [
       "<div>\n",
       "<style scoped>\n",
       "    .dataframe tbody tr th:only-of-type {\n",
       "        vertical-align: middle;\n",
       "    }\n",
       "\n",
       "    .dataframe tbody tr th {\n",
       "        vertical-align: top;\n",
       "    }\n",
       "\n",
       "    .dataframe thead th {\n",
       "        text-align: right;\n",
       "    }\n",
       "</style>\n",
       "<table border=\"1\" class=\"dataframe\">\n",
       "  <thead>\n",
       "    <tr style=\"text-align: right;\">\n",
       "      <th></th>\n",
       "      <th>sentence</th>\n",
       "      <th>embedding</th>\n",
       "      <th>id</th>\n",
       "    </tr>\n",
       "  </thead>\n",
       "  <tbody>\n",
       "    <tr>\n",
       "      <th>0</th>\n",
       "      <td>A little girl is smiling and running outside</td>\n",
       "      <td>[0.0436425618827343, 0.01375775970518589, 0.00...</td>\n",
       "      <td>1</td>\n",
       "    </tr>\n",
       "    <tr>\n",
       "      <th>1</th>\n",
       "      <td>A man is drawing on a digital dry erase board</td>\n",
       "      <td>[-0.008048108778893948, 0.030766354873776436, ...</td>\n",
       "      <td>2</td>\n",
       "    </tr>\n",
       "    <tr>\n",
       "      <th>2</th>\n",
       "      <td>A black bird is sitting on a dead tree</td>\n",
       "      <td>[0.027433251962065697, 1.8205369087809231e-06,...</td>\n",
       "      <td>3</td>\n",
       "    </tr>\n",
       "    <tr>\n",
       "      <th>3</th>\n",
       "      <td>An elderly man is sitting on a bench</td>\n",
       "      <td>[-0.004122881218791008, -0.056238383054733276,...</td>\n",
       "      <td>4</td>\n",
       "    </tr>\n",
       "    <tr>\n",
       "      <th>4</th>\n",
       "      <td>A man and a woman are sitting comfortably on t...</td>\n",
       "      <td>[0.021146269515156746, -0.032280709594488144, ...</td>\n",
       "      <td>5</td>\n",
       "    </tr>\n",
       "  </tbody>\n",
       "</table>\n",
       "</div>"
      ],
      "text/plain": [
       "                                            sentence  \\\n",
       "0       A little girl is smiling and running outside   \n",
       "1      A man is drawing on a digital dry erase board   \n",
       "2             A black bird is sitting on a dead tree   \n",
       "3               An elderly man is sitting on a bench   \n",
       "4  A man and a woman are sitting comfortably on t...   \n",
       "\n",
       "                                           embedding  id  \n",
       "0  [0.0436425618827343, 0.01375775970518589, 0.00...   1  \n",
       "1  [-0.008048108778893948, 0.030766354873776436, ...   2  \n",
       "2  [0.027433251962065697, 1.8205369087809231e-06,...   3  \n",
       "3  [-0.004122881218791008, -0.056238383054733276,...   4  \n",
       "4  [0.021146269515156746, -0.032280709594488144, ...   5  "
      ]
     },
     "execution_count": 4,
     "metadata": {},
     "output_type": "execute_result"
    }
   ],
   "source": [
    "dataset[\"id\"] = range(1, len(dataset) + 1)\n",
    "dataset.head()"
   ]
  },
  {
   "cell_type": "code",
   "execution_count": 7,
   "metadata": {},
   "outputs": [
    {
     "data": {
      "text/plain": [
       "1536"
      ]
     },
     "execution_count": 7,
     "metadata": {},
     "output_type": "execute_result"
    }
   ],
   "source": [
    "embedding_dimension = len(dataset.iloc[0][\"embedding\"])\n",
    "embedding_dimension"
   ]
  },
  {
   "cell_type": "markdown",
   "metadata": {},
   "source": [
    "## Faiss\n",
    "\n",
    "Check [Faiss Indexes](https://github.com/facebookresearch/faiss/wiki/Faiss-indexes) for more information.\n"
   ]
  },
  {
   "cell_type": "code",
   "execution_count": 8,
   "metadata": {},
   "outputs": [],
   "source": [
    "embeddings = np.array(dataset.embedding.tolist())\n",
    "\n",
    "query = \"I love soccer\"\n",
    "xq = get_embedding(query)"
   ]
  },
  {
   "cell_type": "markdown",
   "metadata": {},
   "source": [
    "### IndexFlatL2 - Exact Search for L2\n"
   ]
  },
  {
   "cell_type": "code",
   "execution_count": 12,
   "metadata": {},
   "outputs": [
    {
     "data": {
      "text/plain": [
       "True"
      ]
     },
     "execution_count": 12,
     "metadata": {},
     "output_type": "execute_result"
    }
   ],
   "source": [
    "import faiss\n",
    "\n",
    "index_l2 = faiss.IndexFlatL2(embedding_dimension)\n",
    "index_l2.is_trained"
   ]
  },
  {
   "cell_type": "code",
   "execution_count": 13,
   "metadata": {},
   "outputs": [
    {
     "data": {
      "text/plain": [
       "1000"
      ]
     },
     "execution_count": 13,
     "metadata": {},
     "output_type": "execute_result"
    }
   ],
   "source": [
    "index_l2.add(embeddings)\n",
    "index_l2.ntotal"
   ]
  },
  {
   "cell_type": "code",
   "execution_count": 14,
   "metadata": {},
   "outputs": [
    {
     "data": {
      "text/html": [
       "<div>\n",
       "<style scoped>\n",
       "    .dataframe tbody tr th:only-of-type {\n",
       "        vertical-align: middle;\n",
       "    }\n",
       "\n",
       "    .dataframe tbody tr th {\n",
       "        vertical-align: top;\n",
       "    }\n",
       "\n",
       "    .dataframe thead th {\n",
       "        text-align: right;\n",
       "    }\n",
       "</style>\n",
       "<table border=\"1\" class=\"dataframe\">\n",
       "  <thead>\n",
       "    <tr style=\"text-align: right;\">\n",
       "      <th></th>\n",
       "      <th>sentence</th>\n",
       "      <th>embedding</th>\n",
       "      <th>id</th>\n",
       "    </tr>\n",
       "  </thead>\n",
       "  <tbody>\n",
       "    <tr>\n",
       "      <th>684</th>\n",
       "      <td>A man is punching a soccer ball</td>\n",
       "      <td>[-0.01688985712826252, 0.029744451865553856, 0...</td>\n",
       "      <td>685</td>\n",
       "    </tr>\n",
       "    <tr>\n",
       "      <th>950</th>\n",
       "      <td>A soccer player is sitting on the field and is...</td>\n",
       "      <td>[-0.011246275156736374, 0.009713653475046158, ...</td>\n",
       "      <td>951</td>\n",
       "    </tr>\n",
       "    <tr>\n",
       "      <th>352</th>\n",
       "      <td>An opponent is tackling a soccer player</td>\n",
       "      <td>[0.0006955061689950526, -0.02708514593541622, ...</td>\n",
       "      <td>353</td>\n",
       "    </tr>\n",
       "    <tr>\n",
       "      <th>25</th>\n",
       "      <td>A group of men is playing soccer on the beach</td>\n",
       "      <td>[0.004342387896031141, 0.04711844399571419, 0....</td>\n",
       "      <td>26</td>\n",
       "    </tr>\n",
       "  </tbody>\n",
       "</table>\n",
       "</div>"
      ],
      "text/plain": [
       "                                              sentence  \\\n",
       "684                    A man is punching a soccer ball   \n",
       "950  A soccer player is sitting on the field and is...   \n",
       "352            An opponent is tackling a soccer player   \n",
       "25       A group of men is playing soccer on the beach   \n",
       "\n",
       "                                             embedding   id  \n",
       "684  [-0.01688985712826252, 0.029744451865553856, 0...  685  \n",
       "950  [-0.011246275156736374, 0.009713653475046158, ...  951  \n",
       "352  [0.0006955061689950526, -0.02708514593541622, ...  353  \n",
       "25   [0.004342387896031141, 0.04711844399571419, 0....   26  "
      ]
     },
     "execution_count": 14,
     "metadata": {},
     "output_type": "execute_result"
    }
   ],
   "source": [
    "_, document_indices = index_l2.search(np.expand_dims(xq, axis=0), k=4)\n",
    "dataset.iloc[document_indices[0]]"
   ]
  },
  {
   "cell_type": "markdown",
   "metadata": {},
   "source": [
    "### IndexIVFFlat - Inverted file with exact post-verification\n",
    "\n",
    "<img src='images/ivf.png' width=\"1000\">\n"
   ]
  },
  {
   "cell_type": "code",
   "execution_count": 15,
   "metadata": {},
   "outputs": [
    {
     "data": {
      "text/plain": [
       "False"
      ]
     },
     "execution_count": 15,
     "metadata": {},
     "output_type": "execute_result"
    }
   ],
   "source": [
    "ncentroids = 20\n",
    "quantizer = faiss.IndexFlatL2(embedding_dimension)\n",
    "index_ivf = faiss.IndexIVFFlat(quantizer, embedding_dimension, ncentroids)\n",
    "index_ivf.is_trained"
   ]
  },
  {
   "cell_type": "code",
   "execution_count": 16,
   "metadata": {},
   "outputs": [
    {
     "data": {
      "text/plain": [
       "True"
      ]
     },
     "execution_count": 16,
     "metadata": {},
     "output_type": "execute_result"
    }
   ],
   "source": [
    "index_ivf.train(embeddings)\n",
    "index_ivf.is_trained"
   ]
  },
  {
   "cell_type": "code",
   "execution_count": 17,
   "metadata": {},
   "outputs": [
    {
     "data": {
      "text/plain": [
       "1000"
      ]
     },
     "execution_count": 17,
     "metadata": {},
     "output_type": "execute_result"
    }
   ],
   "source": [
    "index_ivf.add(embeddings)\n",
    "index_ivf.ntotal"
   ]
  },
  {
   "cell_type": "code",
   "execution_count": 18,
   "metadata": {},
   "outputs": [
    {
     "data": {
      "text/html": [
       "<div>\n",
       "<style scoped>\n",
       "    .dataframe tbody tr th:only-of-type {\n",
       "        vertical-align: middle;\n",
       "    }\n",
       "\n",
       "    .dataframe tbody tr th {\n",
       "        vertical-align: top;\n",
       "    }\n",
       "\n",
       "    .dataframe thead th {\n",
       "        text-align: right;\n",
       "    }\n",
       "</style>\n",
       "<table border=\"1\" class=\"dataframe\">\n",
       "  <thead>\n",
       "    <tr style=\"text-align: right;\">\n",
       "      <th></th>\n",
       "      <th>sentence</th>\n",
       "      <th>embedding</th>\n",
       "      <th>id</th>\n",
       "    </tr>\n",
       "  </thead>\n",
       "  <tbody>\n",
       "    <tr>\n",
       "      <th>352</th>\n",
       "      <td>An opponent is tackling a soccer player</td>\n",
       "      <td>[0.0006955061689950526, -0.02708514593541622, ...</td>\n",
       "      <td>353</td>\n",
       "    </tr>\n",
       "    <tr>\n",
       "      <th>979</th>\n",
       "      <td>The crowd is watching a football game</td>\n",
       "      <td>[-0.01140331570059061, 0.015461748465895653, -...</td>\n",
       "      <td>980</td>\n",
       "    </tr>\n",
       "    <tr>\n",
       "      <th>551</th>\n",
       "      <td>A football player is running past an official ...</td>\n",
       "      <td>[0.03300335630774498, 0.017781982198357582, -0...</td>\n",
       "      <td>552</td>\n",
       "    </tr>\n",
       "    <tr>\n",
       "      <th>172</th>\n",
       "      <td>Two men are playing table football</td>\n",
       "      <td>[-0.03752468526363373, 0.05197532847523689, -0...</td>\n",
       "      <td>173</td>\n",
       "    </tr>\n",
       "  </tbody>\n",
       "</table>\n",
       "</div>"
      ],
      "text/plain": [
       "                                              sentence  \\\n",
       "352            An opponent is tackling a soccer player   \n",
       "979              The crowd is watching a football game   \n",
       "551  A football player is running past an official ...   \n",
       "172                 Two men are playing table football   \n",
       "\n",
       "                                             embedding   id  \n",
       "352  [0.0006955061689950526, -0.02708514593541622, ...  353  \n",
       "979  [-0.01140331570059061, 0.015461748465895653, -...  980  \n",
       "551  [0.03300335630774498, 0.017781982198357582, -0...  552  \n",
       "172  [-0.03752468526363373, 0.05197532847523689, -0...  173  "
      ]
     },
     "execution_count": 18,
     "metadata": {},
     "output_type": "execute_result"
    }
   ],
   "source": [
    "_, document_indices = index_ivf.search(np.expand_dims(xq, axis=0), k=4)\n",
    "dataset.iloc[document_indices[0]]"
   ]
  },
  {
   "cell_type": "code",
   "execution_count": 19,
   "metadata": {},
   "outputs": [
    {
     "data": {
      "text/html": [
       "<div>\n",
       "<style scoped>\n",
       "    .dataframe tbody tr th:only-of-type {\n",
       "        vertical-align: middle;\n",
       "    }\n",
       "\n",
       "    .dataframe tbody tr th {\n",
       "        vertical-align: top;\n",
       "    }\n",
       "\n",
       "    .dataframe thead th {\n",
       "        text-align: right;\n",
       "    }\n",
       "</style>\n",
       "<table border=\"1\" class=\"dataframe\">\n",
       "  <thead>\n",
       "    <tr style=\"text-align: right;\">\n",
       "      <th></th>\n",
       "      <th>sentence</th>\n",
       "      <th>embedding</th>\n",
       "      <th>id</th>\n",
       "    </tr>\n",
       "  </thead>\n",
       "  <tbody>\n",
       "    <tr>\n",
       "      <th>684</th>\n",
       "      <td>A man is punching a soccer ball</td>\n",
       "      <td>[-0.01688985712826252, 0.029744451865553856, 0...</td>\n",
       "      <td>685</td>\n",
       "    </tr>\n",
       "    <tr>\n",
       "      <th>950</th>\n",
       "      <td>A soccer player is sitting on the field and is...</td>\n",
       "      <td>[-0.011246275156736374, 0.009713653475046158, ...</td>\n",
       "      <td>951</td>\n",
       "    </tr>\n",
       "    <tr>\n",
       "      <th>352</th>\n",
       "      <td>An opponent is tackling a soccer player</td>\n",
       "      <td>[0.0006955061689950526, -0.02708514593541622, ...</td>\n",
       "      <td>353</td>\n",
       "    </tr>\n",
       "    <tr>\n",
       "      <th>137</th>\n",
       "      <td>A group of boys is playing soccer on the seashore</td>\n",
       "      <td>[0.023316802456974983, 0.0333450511097908, 0.0...</td>\n",
       "      <td>138</td>\n",
       "    </tr>\n",
       "  </tbody>\n",
       "</table>\n",
       "</div>"
      ],
      "text/plain": [
       "                                              sentence  \\\n",
       "684                    A man is punching a soccer ball   \n",
       "950  A soccer player is sitting on the field and is...   \n",
       "352            An opponent is tackling a soccer player   \n",
       "137  A group of boys is playing soccer on the seashore   \n",
       "\n",
       "                                             embedding   id  \n",
       "684  [-0.01688985712826252, 0.029744451865553856, 0...  685  \n",
       "950  [-0.011246275156736374, 0.009713653475046158, ...  951  \n",
       "352  [0.0006955061689950526, -0.02708514593541622, ...  353  \n",
       "137  [0.023316802456974983, 0.0333450511097908, 0.0...  138  "
      ]
     },
     "execution_count": 19,
     "metadata": {},
     "output_type": "execute_result"
    }
   ],
   "source": [
    "index_ivf.nprobe = 5\n",
    "_, document_indices = index_ivf.search(np.expand_dims(xq, axis=0), k=4)\n",
    "dataset.iloc[document_indices[0]]"
   ]
  },
  {
   "cell_type": "markdown",
   "metadata": {},
   "source": [
    "### IndexIVFPQ - IVF + Product Quantizer (PQ)\n",
    "\n",
    "<img src='images/ivf-pq.png' width=\"1000\">"
   ]
  },
  {
   "cell_type": "code",
   "execution_count": 20,
   "metadata": {},
   "outputs": [
    {
     "data": {
      "text/plain": [
       "False"
      ]
     },
     "execution_count": 20,
     "metadata": {},
     "output_type": "execute_result"
    }
   ],
   "source": [
    "code_size = 8\n",
    "bits_per_centroid = 4\n",
    "\n",
    "index_ivf_pq = faiss.IndexIVFPQ(\n",
    "    quantizer, embedding_dimension, ncentroids, code_size, bits_per_centroid\n",
    ")\n",
    "index_ivf_pq.is_trained"
   ]
  },
  {
   "cell_type": "code",
   "execution_count": 21,
   "metadata": {},
   "outputs": [
    {
     "data": {
      "text/plain": [
       "1000"
      ]
     },
     "execution_count": 21,
     "metadata": {},
     "output_type": "execute_result"
    }
   ],
   "source": [
    "index_ivf_pq.train(embeddings)\n",
    "index_ivf_pq.add(embeddings)\n",
    "index_ivf_pq.ntotal"
   ]
  },
  {
   "cell_type": "code",
   "execution_count": 22,
   "metadata": {},
   "outputs": [
    {
     "data": {
      "text/html": [
       "<div>\n",
       "<style scoped>\n",
       "    .dataframe tbody tr th:only-of-type {\n",
       "        vertical-align: middle;\n",
       "    }\n",
       "\n",
       "    .dataframe tbody tr th {\n",
       "        vertical-align: top;\n",
       "    }\n",
       "\n",
       "    .dataframe thead th {\n",
       "        text-align: right;\n",
       "    }\n",
       "</style>\n",
       "<table border=\"1\" class=\"dataframe\">\n",
       "  <thead>\n",
       "    <tr style=\"text-align: right;\">\n",
       "      <th></th>\n",
       "      <th>sentence</th>\n",
       "      <th>embedding</th>\n",
       "      <th>id</th>\n",
       "    </tr>\n",
       "  </thead>\n",
       "  <tbody>\n",
       "    <tr>\n",
       "      <th>352</th>\n",
       "      <td>An opponent is tackling a soccer player</td>\n",
       "      <td>[0.0006955061689950526, -0.02708514593541622, ...</td>\n",
       "      <td>353</td>\n",
       "    </tr>\n",
       "    <tr>\n",
       "      <th>551</th>\n",
       "      <td>A football player is running past an official ...</td>\n",
       "      <td>[0.03300335630774498, 0.017781982198357582, -0...</td>\n",
       "      <td>552</td>\n",
       "    </tr>\n",
       "    <tr>\n",
       "      <th>979</th>\n",
       "      <td>The crowd is watching a football game</td>\n",
       "      <td>[-0.01140331570059061, 0.015461748465895653, -...</td>\n",
       "      <td>980</td>\n",
       "    </tr>\n",
       "    <tr>\n",
       "      <th>469</th>\n",
       "      <td>A football player in a red and white uniform i...</td>\n",
       "      <td>[-0.01379761379212141, -0.04831472039222717, 0...</td>\n",
       "      <td>470</td>\n",
       "    </tr>\n",
       "  </tbody>\n",
       "</table>\n",
       "</div>"
      ],
      "text/plain": [
       "                                              sentence  \\\n",
       "352            An opponent is tackling a soccer player   \n",
       "551  A football player is running past an official ...   \n",
       "979              The crowd is watching a football game   \n",
       "469  A football player in a red and white uniform i...   \n",
       "\n",
       "                                             embedding   id  \n",
       "352  [0.0006955061689950526, -0.02708514593541622, ...  353  \n",
       "551  [0.03300335630774498, 0.017781982198357582, -0...  552  \n",
       "979  [-0.01140331570059061, 0.015461748465895653, -...  980  \n",
       "469  [-0.01379761379212141, -0.04831472039222717, 0...  470  "
      ]
     },
     "execution_count": 22,
     "metadata": {},
     "output_type": "execute_result"
    }
   ],
   "source": [
    "index_ivf_pq.nprobe = 5\n",
    "_, document_indices = index_ivf_pq.search(np.expand_dims(xq, axis=0), k=4)\n",
    "dataset.iloc[document_indices[0]]"
   ]
  },
  {
   "cell_type": "markdown",
   "metadata": {},
   "source": [
    "## Pinecone\n"
   ]
  },
  {
   "cell_type": "code",
   "execution_count": 23,
   "metadata": {},
   "outputs": [
    {
     "name": "stderr",
     "output_type": "stream",
     "text": [
      "/Users/svpino/dev/llm/.venv/lib/python3.10/site-packages/pinecone/data/index.py:1: TqdmWarning: IProgress not found. Please update jupyter and ipywidgets. See https://ipywidgets.readthedocs.io/en/stable/user_install.html\n",
      "  from tqdm.autonotebook import tqdm\n"
     ]
    }
   ],
   "source": [
    "import os\n",
    "\n",
    "from pinecone import Pinecone\n",
    "\n",
    "PINECONE_API_KEY = os.environ.get(\"PINECONE_API_KEY\")\n",
    "database = Pinecone(api_key=PINECONE_API_KEY)"
   ]
  },
  {
   "cell_type": "code",
   "execution_count": 24,
   "metadata": {},
   "outputs": [],
   "source": [
    "from pinecone import ServerlessSpec\n",
    "\n",
    "serverless_spec = ServerlessSpec(cloud=\"aws\", region=\"us-east-1\")"
   ]
  },
  {
   "cell_type": "code",
   "execution_count": 25,
   "metadata": {},
   "outputs": [],
   "source": [
    "import time\n",
    "\n",
    "INDEX_NAME = \"underfitted-random-sentences\"\n",
    "\n",
    "if INDEX_NAME not in database.list_indexes().names():\n",
    "    database.create_index(\n",
    "        name=INDEX_NAME,\n",
    "        dimension=embedding_dimension,\n",
    "        metric=\"cosine\",\n",
    "        spec=serverless_spec,\n",
    "    )\n",
    "\n",
    "    time.sleep(1)\n",
    "\n",
    "pinecone_index = database.Index(INDEX_NAME)"
   ]
  },
  {
   "cell_type": "code",
   "execution_count": 26,
   "metadata": {},
   "outputs": [
    {
     "data": {
      "text/plain": [
       "{'dimension': 1536,\n",
       " 'index_fullness': 0.0,\n",
       " 'namespaces': {'': {'vector_count': 1000}},\n",
       " 'total_vector_count': 1000}"
      ]
     },
     "execution_count": 26,
     "metadata": {},
     "output_type": "execute_result"
    }
   ],
   "source": [
    "pinecone_index.describe_index_stats()"
   ]
  },
  {
   "cell_type": "code",
   "execution_count": 285,
   "metadata": {},
   "outputs": [],
   "source": [
    "def iterator(dataset, size):\n",
    "    for i in range(0, len(dataset), size):\n",
    "        yield dataset.iloc[i : i + size]\n",
    "\n",
    "\n",
    "def vector(batch):\n",
    "    vector = []\n",
    "    for i in batch.to_dict(\"records\"):\n",
    "        vector.append((str(i[\"id\"]), i[\"embedding\"], {\"sentence\": i[\"sentence\"]}))\n",
    "\n",
    "    return vector"
   ]
  },
  {
   "cell_type": "code",
   "execution_count": 286,
   "metadata": {},
   "outputs": [],
   "source": [
    "if pinecone_index.describe_index_stats()[\"total_vector_count\"] == 0:\n",
    "    for batch in iterator(dataset, 100):\n",
    "        pinecone_index.upsert(vector(batch))"
   ]
  },
  {
   "cell_type": "code",
   "execution_count": 288,
   "metadata": {},
   "outputs": [
    {
     "data": {
      "text/plain": [
       "{'dimension': 1536,\n",
       " 'index_fullness': 0.0,\n",
       " 'namespaces': {'': {'vector_count': 1000}},\n",
       " 'total_vector_count': 1000}"
      ]
     },
     "execution_count": 288,
     "metadata": {},
     "output_type": "execute_result"
    }
   ],
   "source": [
    "pinecone_index.describe_index_stats()"
   ]
  },
  {
   "cell_type": "code",
   "execution_count": 27,
   "metadata": {},
   "outputs": [
    {
     "name": "stdout",
     "output_type": "stream",
     "text": [
      "A man is punching a soccer ball\n",
      "A soccer player is sitting on the field and is drinking water\n",
      "An opponent is tackling a soccer player\n",
      "A group of men is playing soccer on the beach\n"
     ]
    }
   ],
   "source": [
    "response = pinecone_index.query(vector=xq, top_k=4, include_metadata=True)\n",
    "for match in response[\"matches\"]:\n",
    "    print(match[\"metadata\"][\"sentence\"])"
   ]
  },
  {
   "cell_type": "code",
   "execution_count": 29,
   "metadata": {},
   "outputs": [
    {
     "name": "stdout",
     "output_type": "stream",
     "text": [
      "The animal with big eyes is voraciously eating\n",
      "Some kittens are hungry\n",
      "Someone is cleaning an animal\n",
      "A lemur is eating quickly\n",
      "A cat is eating corn on the cob\n"
     ]
    }
   ],
   "source": [
    "query2 = \"I like animals that eat too much\"\n",
    "xq2 = get_embedding(query2)\n",
    "response = pinecone_index.query(vector=xq2, top_k=5, include_metadata=True)\n",
    "for match in response[\"matches\"]:\n",
    "    print(match[\"metadata\"][\"sentence\"])"
   ]
  },
  {
   "cell_type": "code",
   "execution_count": 30,
   "metadata": {},
   "outputs": [],
   "source": [
    "database.delete_index(INDEX_NAME)"
   ]
  },
  {
   "cell_type": "code",
   "execution_count": null,
   "metadata": {},
   "outputs": [],
   "source": []
  }
 ],
 "metadata": {
  "kernelspec": {
   "display_name": ".venv",
   "language": "python",
   "name": "python3"
  },
  "language_info": {
   "codemirror_mode": {
    "name": "ipython",
    "version": 3
   },
   "file_extension": ".py",
   "mimetype": "text/x-python",
   "name": "python",
   "nbconvert_exporter": "python",
   "pygments_lexer": "ipython3",
   "version": "3.10.11"
  }
 },
 "nbformat": 4,
 "nbformat_minor": 2
}
